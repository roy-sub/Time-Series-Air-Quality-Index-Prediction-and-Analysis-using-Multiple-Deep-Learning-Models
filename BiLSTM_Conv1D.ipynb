{
  "nbformat": 4,
  "nbformat_minor": 0,
  "metadata": {
    "colab": {
      "provenance": [],
      "authorship_tag": "ABX9TyP6Km+tJATpv2Z82uj5Fu1N",
      "include_colab_link": true
    },
    "kernelspec": {
      "name": "python3",
      "display_name": "Python 3"
    },
    "language_info": {
      "name": "python"
    }
  },
  "cells": [
    {
      "cell_type": "markdown",
      "metadata": {
        "id": "view-in-github",
        "colab_type": "text"
      },
      "source": [
        "<a href=\"https://colab.research.google.com/github/roy-sub/Time-Series-Air-Quality-Index-Prediction-and-Analysis-using-Multiple-Deep-Learning-Models/blob/main/BiLSTM_Conv1D.ipynb\" target=\"_parent\"><img src=\"https://colab.research.google.com/assets/colab-badge.svg\" alt=\"Open In Colab\"/></a>"
      ]
    },
    {
      "cell_type": "code",
      "execution_count": null,
      "metadata": {
        "id": "jSTgdgm_SvWk"
      },
      "outputs": [],
      "source": [
        "import pandas as pd\n",
        "import numpy as np\n",
        "from math import sqrt\n",
        "from sklearn.metrics import r2_score\n",
        "import seaborn as sns;\n",
        "from sklearn import preprocessing\n",
        "from sklearn.metrics import accuracy_score\n",
        "from sklearn.preprocessing import StandardScaler\n",
        "import matplotlib.pyplot as plt\n",
        "import tensorflow as tf\n",
        "from tensorflow import keras\n",
        "from numpy import array\n",
        "from keras.models import Sequential\n",
        "from keras.layers import LSTM\n",
        "from keras.layers import Dense\n",
        "from keras import optimizers\n",
        "from sklearn.preprocessing import MinMaxScaler\n",
        "from sklearn.metrics import mean_squared_error\n",
        "from keras.layers import Dropout "
      ]
    },
    {
      "cell_type": "code",
      "source": [
        "# 321300\n",
        "df = pd.read_csv('/content/air_quality_data_preprocessed')\n",
        "df.shape "
      ],
      "metadata": {
        "colab": {
          "base_uri": "https://localhost:8080/"
        },
        "id": "JCAWXVtqS0lH",
        "outputId": "aee2f05c-a538-4de9-87a9-59d21616c7bd"
      },
      "execution_count": null,
      "outputs": [
        {
          "output_type": "execute_result",
          "data": {
            "text/plain": [
              "(401611, 33)"
            ]
          },
          "metadata": {},
          "execution_count": 2
        }
      ]
    },
    {
      "cell_type": "code",
      "source": [
        "df.head()"
      ],
      "metadata": {
        "colab": {
          "base_uri": "https://localhost:8080/",
          "height": 300
        },
        "id": "dS5GZEuVS26b",
        "outputId": "5bd21dc8-97d2-4c90-8573-8827112ffcf2"
      },
      "execution_count": null,
      "outputs": [
        {
          "output_type": "execute_result",
          "data": {
            "text/plain": [
              "   No  year  month  day  hour  PM2.5  PM10  SO2      NO2      CO  ...  \\\n",
              "0  16  2013      3    1    15   13.0  16.0  8.0  11.2000   800.0  ...   \n",
              "1  17  2013      3    1    16   11.0  22.0  6.0  15.4000   800.0  ...   \n",
              "2  18  2013      3    1    17   10.0  20.0  4.0   9.8000   800.0  ...   \n",
              "3  19  2013      3    1    18   11.0  20.0  6.0  12.6000   900.0  ...   \n",
              "4  20  2013      3    1    19   11.0  31.0  8.0  12.0053  1000.0  ...   \n",
              "\n",
              "   O3_8hr_max  PM2.5_SubIndex  PM10_SubIndex  SO2_SubIndex  NO2_SubIndex  \\\n",
              "0        90.0       10.833333      13.000000      7.437500     15.054638   \n",
              "1        90.0       11.274510      13.529412      7.441176     15.301424   \n",
              "2        90.0       11.574074      13.888889      7.305556     15.131900   \n",
              "3        90.0       11.929825      14.210526      7.315789     15.164432   \n",
              "4        90.0       12.250000      15.050000      7.450000     15.156541   \n",
              "\n",
              "   CO_SubIndex  O3_SubIndex  Checks  AQI_calculated  AQI_bucket_calculated  \n",
              "0  5494.117647         90.0       6          5494.0                 Severe  \n",
              "1  5494.117647         90.0       6          5494.0                 Severe  \n",
              "2  5494.117647         90.0       6          5494.0                 Severe  \n",
              "3  5494.117647         90.0       6          5494.0                 Severe  \n",
              "4  6082.352941         90.0       6          6082.0                 Severe  \n",
              "\n",
              "[5 rows x 33 columns]"
            ],
            "text/html": [
              "\n",
              "  <div id=\"df-8dd0eee9-d428-4dbf-9616-3f1a2f705867\">\n",
              "    <div class=\"colab-df-container\">\n",
              "      <div>\n",
              "<style scoped>\n",
              "    .dataframe tbody tr th:only-of-type {\n",
              "        vertical-align: middle;\n",
              "    }\n",
              "\n",
              "    .dataframe tbody tr th {\n",
              "        vertical-align: top;\n",
              "    }\n",
              "\n",
              "    .dataframe thead th {\n",
              "        text-align: right;\n",
              "    }\n",
              "</style>\n",
              "<table border=\"1\" class=\"dataframe\">\n",
              "  <thead>\n",
              "    <tr style=\"text-align: right;\">\n",
              "      <th></th>\n",
              "      <th>No</th>\n",
              "      <th>year</th>\n",
              "      <th>month</th>\n",
              "      <th>day</th>\n",
              "      <th>hour</th>\n",
              "      <th>PM2.5</th>\n",
              "      <th>PM10</th>\n",
              "      <th>SO2</th>\n",
              "      <th>NO2</th>\n",
              "      <th>CO</th>\n",
              "      <th>...</th>\n",
              "      <th>O3_8hr_max</th>\n",
              "      <th>PM2.5_SubIndex</th>\n",
              "      <th>PM10_SubIndex</th>\n",
              "      <th>SO2_SubIndex</th>\n",
              "      <th>NO2_SubIndex</th>\n",
              "      <th>CO_SubIndex</th>\n",
              "      <th>O3_SubIndex</th>\n",
              "      <th>Checks</th>\n",
              "      <th>AQI_calculated</th>\n",
              "      <th>AQI_bucket_calculated</th>\n",
              "    </tr>\n",
              "  </thead>\n",
              "  <tbody>\n",
              "    <tr>\n",
              "      <th>0</th>\n",
              "      <td>16</td>\n",
              "      <td>2013</td>\n",
              "      <td>3</td>\n",
              "      <td>1</td>\n",
              "      <td>15</td>\n",
              "      <td>13.0</td>\n",
              "      <td>16.0</td>\n",
              "      <td>8.0</td>\n",
              "      <td>11.2000</td>\n",
              "      <td>800.0</td>\n",
              "      <td>...</td>\n",
              "      <td>90.0</td>\n",
              "      <td>10.833333</td>\n",
              "      <td>13.000000</td>\n",
              "      <td>7.437500</td>\n",
              "      <td>15.054638</td>\n",
              "      <td>5494.117647</td>\n",
              "      <td>90.0</td>\n",
              "      <td>6</td>\n",
              "      <td>5494.0</td>\n",
              "      <td>Severe</td>\n",
              "    </tr>\n",
              "    <tr>\n",
              "      <th>1</th>\n",
              "      <td>17</td>\n",
              "      <td>2013</td>\n",
              "      <td>3</td>\n",
              "      <td>1</td>\n",
              "      <td>16</td>\n",
              "      <td>11.0</td>\n",
              "      <td>22.0</td>\n",
              "      <td>6.0</td>\n",
              "      <td>15.4000</td>\n",
              "      <td>800.0</td>\n",
              "      <td>...</td>\n",
              "      <td>90.0</td>\n",
              "      <td>11.274510</td>\n",
              "      <td>13.529412</td>\n",
              "      <td>7.441176</td>\n",
              "      <td>15.301424</td>\n",
              "      <td>5494.117647</td>\n",
              "      <td>90.0</td>\n",
              "      <td>6</td>\n",
              "      <td>5494.0</td>\n",
              "      <td>Severe</td>\n",
              "    </tr>\n",
              "    <tr>\n",
              "      <th>2</th>\n",
              "      <td>18</td>\n",
              "      <td>2013</td>\n",
              "      <td>3</td>\n",
              "      <td>1</td>\n",
              "      <td>17</td>\n",
              "      <td>10.0</td>\n",
              "      <td>20.0</td>\n",
              "      <td>4.0</td>\n",
              "      <td>9.8000</td>\n",
              "      <td>800.0</td>\n",
              "      <td>...</td>\n",
              "      <td>90.0</td>\n",
              "      <td>11.574074</td>\n",
              "      <td>13.888889</td>\n",
              "      <td>7.305556</td>\n",
              "      <td>15.131900</td>\n",
              "      <td>5494.117647</td>\n",
              "      <td>90.0</td>\n",
              "      <td>6</td>\n",
              "      <td>5494.0</td>\n",
              "      <td>Severe</td>\n",
              "    </tr>\n",
              "    <tr>\n",
              "      <th>3</th>\n",
              "      <td>19</td>\n",
              "      <td>2013</td>\n",
              "      <td>3</td>\n",
              "      <td>1</td>\n",
              "      <td>18</td>\n",
              "      <td>11.0</td>\n",
              "      <td>20.0</td>\n",
              "      <td>6.0</td>\n",
              "      <td>12.6000</td>\n",
              "      <td>900.0</td>\n",
              "      <td>...</td>\n",
              "      <td>90.0</td>\n",
              "      <td>11.929825</td>\n",
              "      <td>14.210526</td>\n",
              "      <td>7.315789</td>\n",
              "      <td>15.164432</td>\n",
              "      <td>5494.117647</td>\n",
              "      <td>90.0</td>\n",
              "      <td>6</td>\n",
              "      <td>5494.0</td>\n",
              "      <td>Severe</td>\n",
              "    </tr>\n",
              "    <tr>\n",
              "      <th>4</th>\n",
              "      <td>20</td>\n",
              "      <td>2013</td>\n",
              "      <td>3</td>\n",
              "      <td>1</td>\n",
              "      <td>19</td>\n",
              "      <td>11.0</td>\n",
              "      <td>31.0</td>\n",
              "      <td>8.0</td>\n",
              "      <td>12.0053</td>\n",
              "      <td>1000.0</td>\n",
              "      <td>...</td>\n",
              "      <td>90.0</td>\n",
              "      <td>12.250000</td>\n",
              "      <td>15.050000</td>\n",
              "      <td>7.450000</td>\n",
              "      <td>15.156541</td>\n",
              "      <td>6082.352941</td>\n",
              "      <td>90.0</td>\n",
              "      <td>6</td>\n",
              "      <td>6082.0</td>\n",
              "      <td>Severe</td>\n",
              "    </tr>\n",
              "  </tbody>\n",
              "</table>\n",
              "<p>5 rows × 33 columns</p>\n",
              "</div>\n",
              "      <button class=\"colab-df-convert\" onclick=\"convertToInteractive('df-8dd0eee9-d428-4dbf-9616-3f1a2f705867')\"\n",
              "              title=\"Convert this dataframe to an interactive table.\"\n",
              "              style=\"display:none;\">\n",
              "        \n",
              "  <svg xmlns=\"http://www.w3.org/2000/svg\" height=\"24px\"viewBox=\"0 0 24 24\"\n",
              "       width=\"24px\">\n",
              "    <path d=\"M0 0h24v24H0V0z\" fill=\"none\"/>\n",
              "    <path d=\"M18.56 5.44l.94 2.06.94-2.06 2.06-.94-2.06-.94-.94-2.06-.94 2.06-2.06.94zm-11 1L8.5 8.5l.94-2.06 2.06-.94-2.06-.94L8.5 2.5l-.94 2.06-2.06.94zm10 10l.94 2.06.94-2.06 2.06-.94-2.06-.94-.94-2.06-.94 2.06-2.06.94z\"/><path d=\"M17.41 7.96l-1.37-1.37c-.4-.4-.92-.59-1.43-.59-.52 0-1.04.2-1.43.59L10.3 9.45l-7.72 7.72c-.78.78-.78 2.05 0 2.83L4 21.41c.39.39.9.59 1.41.59.51 0 1.02-.2 1.41-.59l7.78-7.78 2.81-2.81c.8-.78.8-2.07 0-2.86zM5.41 20L4 18.59l7.72-7.72 1.47 1.35L5.41 20z\"/>\n",
              "  </svg>\n",
              "      </button>\n",
              "      \n",
              "  <style>\n",
              "    .colab-df-container {\n",
              "      display:flex;\n",
              "      flex-wrap:wrap;\n",
              "      gap: 12px;\n",
              "    }\n",
              "\n",
              "    .colab-df-convert {\n",
              "      background-color: #E8F0FE;\n",
              "      border: none;\n",
              "      border-radius: 50%;\n",
              "      cursor: pointer;\n",
              "      display: none;\n",
              "      fill: #1967D2;\n",
              "      height: 32px;\n",
              "      padding: 0 0 0 0;\n",
              "      width: 32px;\n",
              "    }\n",
              "\n",
              "    .colab-df-convert:hover {\n",
              "      background-color: #E2EBFA;\n",
              "      box-shadow: 0px 1px 2px rgba(60, 64, 67, 0.3), 0px 1px 3px 1px rgba(60, 64, 67, 0.15);\n",
              "      fill: #174EA6;\n",
              "    }\n",
              "\n",
              "    [theme=dark] .colab-df-convert {\n",
              "      background-color: #3B4455;\n",
              "      fill: #D2E3FC;\n",
              "    }\n",
              "\n",
              "    [theme=dark] .colab-df-convert:hover {\n",
              "      background-color: #434B5C;\n",
              "      box-shadow: 0px 1px 3px 1px rgba(0, 0, 0, 0.15);\n",
              "      filter: drop-shadow(0px 1px 2px rgba(0, 0, 0, 0.3));\n",
              "      fill: #FFFFFF;\n",
              "    }\n",
              "  </style>\n",
              "\n",
              "      <script>\n",
              "        const buttonEl =\n",
              "          document.querySelector('#df-8dd0eee9-d428-4dbf-9616-3f1a2f705867 button.colab-df-convert');\n",
              "        buttonEl.style.display =\n",
              "          google.colab.kernel.accessAllowed ? 'block' : 'none';\n",
              "\n",
              "        async function convertToInteractive(key) {\n",
              "          const element = document.querySelector('#df-8dd0eee9-d428-4dbf-9616-3f1a2f705867');\n",
              "          const dataTable =\n",
              "            await google.colab.kernel.invokeFunction('convertToInteractive',\n",
              "                                                     [key], {});\n",
              "          if (!dataTable) return;\n",
              "\n",
              "          const docLinkHtml = 'Like what you see? Visit the ' +\n",
              "            '<a target=\"_blank\" href=https://colab.research.google.com/notebooks/data_table.ipynb>data table notebook</a>'\n",
              "            + ' to learn more about interactive tables.';\n",
              "          element.innerHTML = '';\n",
              "          dataTable['output_type'] = 'display_data';\n",
              "          await google.colab.output.renderOutput(dataTable, element);\n",
              "          const docLink = document.createElement('div');\n",
              "          docLink.innerHTML = docLinkHtml;\n",
              "          element.appendChild(docLink);\n",
              "        }\n",
              "      </script>\n",
              "    </div>\n",
              "  </div>\n",
              "  "
            ]
          },
          "metadata": {},
          "execution_count": 3
        }
      ]
    },
    {
      "cell_type": "code",
      "source": [
        "train = df[:321301]['AQI_calculated']\n",
        "test = df[321301:401612]['AQI_calculated']"
      ],
      "metadata": {
        "id": "2-XuqSCAS3U9"
      },
      "execution_count": null,
      "outputs": []
    },
    {
      "cell_type": "code",
      "source": [
        "# Normalizing training data # Converted into array as all the methods available are for arrays and not lists\n",
        "train = np.asarray(train)\n",
        "train_norm = np.reshape(train, (-1, 1))\n",
        "\n",
        "#Scaling all values between 0 and 1 so that large values don't just dominate\n",
        "scaler = MinMaxScaler(feature_range=(0, 1))\n",
        "train_norm = scaler.fit_transform(train_norm)\n",
        "\n",
        "#Printing\n",
        "for i in range(5):\n",
        "    print(train_norm[i])"
      ],
      "metadata": {
        "colab": {
          "base_uri": "https://localhost:8080/"
        },
        "id": "poMxA323S4ve",
        "outputId": "07a62c96-7287-4e51-efcf-3ad87e0960ef"
      },
      "execution_count": null,
      "outputs": [
        {
          "output_type": "stream",
          "name": "stdout",
          "text": [
            "[0.08080912]\n",
            "[0.08080912]\n",
            "[0.08080912]\n",
            "[0.08080912]\n",
            "[0.09090597]\n"
          ]
        }
      ]
    },
    {
      "cell_type": "code",
      "source": [
        "train_norm = train_norm[train_norm!=0]"
      ],
      "metadata": {
        "id": "oA32fkvGS7rc"
      },
      "execution_count": null,
      "outputs": []
    },
    {
      "cell_type": "code",
      "source": [
        "# Normalizing testing data # Converted into array as all the methods available are for arrays and not lists\n",
        "test = np.asarray(test)\n",
        "test_norm = np.reshape(test, (-1, 1))\n",
        "\n",
        "#Scaling all values between 0 and 1 so that large values don't just dominate\n",
        "scaler = MinMaxScaler(feature_range=(0, 1))\n",
        "test_norm = scaler.fit_transform(test_norm)\n",
        "\n",
        "#Printing\n",
        "for i in range(5):\n",
        "    print(test_norm[i])"
      ],
      "metadata": {
        "colab": {
          "base_uri": "https://localhost:8080/"
        },
        "id": "huwLhW6QS888",
        "outputId": "f6a64db8-66cd-4282-b7ad-f06c29a5b5e9"
      },
      "execution_count": null,
      "outputs": [
        {
          "output_type": "stream",
          "name": "stdout",
          "text": [
            "[0.11111683]\n",
            "[0.12121368]\n",
            "[0.12121368]\n",
            "[0.12121368]\n",
            "[0.12121368]\n"
          ]
        }
      ]
    },
    {
      "cell_type": "code",
      "source": [
        "test_norm = test_norm[test_norm != 0]"
      ],
      "metadata": {
        "id": "f6HPftDPS-qu"
      },
      "execution_count": null,
      "outputs": []
    },
    {
      "cell_type": "code",
      "source": [
        "print(train_norm.shape)\n",
        "print(test_norm.shape)"
      ],
      "metadata": {
        "colab": {
          "base_uri": "https://localhost:8080/"
        },
        "id": "BMA5vqQxS_6z",
        "outputId": "20c7f6da-8820-46a4-8a51-99a6704e0e9c"
      },
      "execution_count": null,
      "outputs": [
        {
          "output_type": "stream",
          "name": "stdout",
          "text": [
            "(319942,)\n",
            "(80251,)\n"
          ]
        }
      ]
    },
    {
      "cell_type": "code",
      "source": [
        "def split_sequence(sequence, n_steps):\n",
        "    x, y = list(), list()\n",
        "    for i in range(len(sequence)):\n",
        "        # find the end of this pattern\n",
        "        end_ix = i + n_steps\n",
        "        # check if we are beyond the sequence\n",
        "        if end_ix > len(sequence)-1:\n",
        "            break\n",
        "        # gather input and output parts of the pattern\n",
        "        seq_x, seq_y = sequence[i:end_ix], sequence[end_ix]\n",
        "        x.append(seq_x)\n",
        "        y.append(seq_y)\n",
        "    return array(x),array(y)"
      ],
      "metadata": {
        "id": "g7p28ptYTBLK"
      },
      "execution_count": null,
      "outputs": []
    },
    {
      "cell_type": "code",
      "source": [
        "n_steps = 3\n",
        "X_split_train, y_split_train = split_sequence(train_norm, n_steps)\n",
        "for i in range(5):\n",
        "    print(X_split_train[i], y_split_train[i])"
      ],
      "metadata": {
        "colab": {
          "base_uri": "https://localhost:8080/"
        },
        "id": "PSiauDgSTCoF",
        "outputId": "1b10d6a9-777f-47e6-e698-923812368ce6"
      },
      "execution_count": null,
      "outputs": [
        {
          "output_type": "stream",
          "name": "stdout",
          "text": [
            "[0.08080912 0.08080912 0.08080912] 0.08080912150559791\n",
            "[0.08080912 0.08080912 0.08080912] 0.09090596881653959\n",
            "[0.08080912 0.08080912 0.09090597] 0.1010199876365135\n",
            "[0.08080912 0.09090597 0.10101999] 0.11111683494745518\n",
            "[0.09090597 0.10101999 0.11111683] 0.11111683494745518\n"
          ]
        }
      ]
    },
    {
      "cell_type": "code",
      "source": [
        "print(X_split_train.shape[0])\n",
        "print(X_split_train.shape[1])\n",
        "print(X_split_train.shape)"
      ],
      "metadata": {
        "colab": {
          "base_uri": "https://localhost:8080/"
        },
        "id": "NhdxHcVUTDux",
        "outputId": "c2660ffd-658e-4035-f52a-bb1327f44ae4"
      },
      "execution_count": null,
      "outputs": [
        {
          "output_type": "stream",
          "name": "stdout",
          "text": [
            "319939\n",
            "3\n",
            "(319939, 3)\n"
          ]
        }
      ]
    },
    {
      "cell_type": "code",
      "source": [
        "print(X_split_train[0])"
      ],
      "metadata": {
        "colab": {
          "base_uri": "https://localhost:8080/"
        },
        "id": "wVmJjZkxTGJP",
        "outputId": "fb891bd8-72bb-49e5-b687-b662802ee607"
      },
      "execution_count": null,
      "outputs": [
        {
          "output_type": "stream",
          "name": "stdout",
          "text": [
            "[0.08080912 0.08080912 0.08080912]\n"
          ]
        }
      ]
    },
    {
      "cell_type": "code",
      "source": [
        "n_features = 1\n",
        "X_split_train = X_split_train.reshape((X_split_train.shape[0], X_split_train.shape[1], n_features))\n",
        "for i in range(5):\n",
        "    print(X_split_train[i])"
      ],
      "metadata": {
        "colab": {
          "base_uri": "https://localhost:8080/"
        },
        "id": "FGHbIkl1THu5",
        "outputId": "959b0ba4-18c2-4420-9c55-b272416fef82"
      },
      "execution_count": null,
      "outputs": [
        {
          "output_type": "stream",
          "name": "stdout",
          "text": [
            "[[0.08080912]\n",
            " [0.08080912]\n",
            " [0.08080912]]\n",
            "[[0.08080912]\n",
            " [0.08080912]\n",
            " [0.08080912]]\n",
            "[[0.08080912]\n",
            " [0.08080912]\n",
            " [0.09090597]]\n",
            "[[0.08080912]\n",
            " [0.09090597]\n",
            " [0.10101999]]\n",
            "[[0.09090597]\n",
            " [0.10101999]\n",
            " [0.11111683]]\n"
          ]
        }
      ]
    },
    {
      "cell_type": "code",
      "source": [
        "print(X_split_train.shape)"
      ],
      "metadata": {
        "colab": {
          "base_uri": "https://localhost:8080/"
        },
        "id": "Kyt3rATSTI_I",
        "outputId": "78d1f101-3b01-4f52-c4f6-3017ffe627df"
      },
      "execution_count": null,
      "outputs": [
        {
          "output_type": "stream",
          "name": "stdout",
          "text": [
            "(319939, 3, 1)\n"
          ]
        }
      ]
    },
    {
      "cell_type": "code",
      "source": [
        "X_split_test, y_split_test = split_sequence(test_norm, n_steps)\n",
        "for i in range(5):\n",
        "    print(X_split_test[i], y_split_test[i])"
      ],
      "metadata": {
        "colab": {
          "base_uri": "https://localhost:8080/"
        },
        "id": "_Q7GOtBlTJYS",
        "outputId": "dfb6a32a-2041-4adc-b2e8-96757c9ed500"
      },
      "execution_count": null,
      "outputs": [
        {
          "output_type": "stream",
          "name": "stdout",
          "text": [
            "[0.11111683 0.12121368 0.12121368] 0.12121368225839686\n",
            "[0.12121368 0.12121368 0.12121368] 0.12121368225839686\n",
            "[0.12121368 0.12121368 0.12121368] 0.12121368225839686\n",
            "[0.12121368 0.12121368 0.12121368] 0.12121368225839686\n",
            "[0.12121368 0.12121368 0.12121368] 0.12121368225839686\n"
          ]
        }
      ]
    },
    {
      "cell_type": "code",
      "source": [
        "n_features = 1\n",
        "X_split_test = X_split_test.reshape((X_split_test.shape[0], X_split_test.shape[1], n_features))\n",
        "for i in range(5):\n",
        "    print(X_split_test[i])"
      ],
      "metadata": {
        "colab": {
          "base_uri": "https://localhost:8080/"
        },
        "id": "N3_ALQlBTKlg",
        "outputId": "eb920ce1-7b46-4c41-c0ee-3e440f7bb2d6"
      },
      "execution_count": null,
      "outputs": [
        {
          "output_type": "stream",
          "name": "stdout",
          "text": [
            "[[0.11111683]\n",
            " [0.12121368]\n",
            " [0.12121368]]\n",
            "[[0.12121368]\n",
            " [0.12121368]\n",
            " [0.12121368]]\n",
            "[[0.12121368]\n",
            " [0.12121368]\n",
            " [0.12121368]]\n",
            "[[0.12121368]\n",
            " [0.12121368]\n",
            " [0.12121368]]\n",
            "[[0.12121368]\n",
            " [0.12121368]\n",
            " [0.12121368]]\n"
          ]
        }
      ]
    },
    {
      "cell_type": "code",
      "source": [
        "print(X_split_test.shape)"
      ],
      "metadata": {
        "colab": {
          "base_uri": "https://localhost:8080/"
        },
        "id": "1KI8pmnOTLuP",
        "outputId": "265867d5-fbaa-456a-8715-367018493e70"
      },
      "execution_count": null,
      "outputs": [
        {
          "output_type": "stream",
          "name": "stdout",
          "text": [
            "(80248, 3, 1)\n"
          ]
        }
      ]
    },
    {
      "cell_type": "code",
      "source": [
        "model_BiLSTMCNN = tf.keras.Sequential([\n",
        "    tf.keras.layers.Bidirectional(tf.keras.layers.LSTM(100, return_sequences=True), input_shape=(n_steps, n_features)),\n",
        "    tf.keras.layers.Dropout(0.5),\n",
        "    tf.keras.layers.Conv1D(filters=128, kernel_size=2, activation=tf.keras.layers.LeakyReLU(alpha=0.7)),\n",
        "    tf.keras.layers.MaxPooling1D(pool_size=1),\n",
        "    tf.keras.layers.Flatten(),\n",
        "    tf.keras.layers.Dense(1)\n",
        "])\n",
        "model_BiLSTMCNN.compile(optimizer=tf.keras.optimizers.Nadam(learning_rate=0.001),loss=tf.losses.MeanSquaredLogarithmicError(), metrics=['accuracy'])\n",
        "model_BiLSTMCNN.summary()"
      ],
      "metadata": {
        "colab": {
          "base_uri": "https://localhost:8080/"
        },
        "id": "gOr-1XruTOTU",
        "outputId": "85296f94-3b33-4708-915f-6b62e1fee238"
      },
      "execution_count": null,
      "outputs": [
        {
          "output_type": "stream",
          "name": "stdout",
          "text": [
            "Model: \"sequential\"\n",
            "_________________________________________________________________\n",
            " Layer (type)                Output Shape              Param #   \n",
            "=================================================================\n",
            " bidirectional (Bidirectiona  (None, 3, 200)           81600     \n",
            " l)                                                              \n",
            "                                                                 \n",
            " dropout (Dropout)           (None, 3, 200)            0         \n",
            "                                                                 \n",
            " conv1d (Conv1D)             (None, 2, 128)            51328     \n",
            "                                                                 \n",
            " max_pooling1d (MaxPooling1D  (None, 2, 128)           0         \n",
            " )                                                               \n",
            "                                                                 \n",
            " flatten (Flatten)           (None, 256)               0         \n",
            "                                                                 \n",
            " dense (Dense)               (None, 1)                 257       \n",
            "                                                                 \n",
            "=================================================================\n",
            "Total params: 133,185\n",
            "Trainable params: 133,185\n",
            "Non-trainable params: 0\n",
            "_________________________________________________________________\n"
          ]
        }
      ]
    },
    {
      "cell_type": "code",
      "source": [
        "tf.keras.utils.plot_model(model=model_BiLSTMCNN, show_shapes=True)"
      ],
      "metadata": {
        "colab": {
          "base_uri": "https://localhost:8080/",
          "height": 754
        },
        "id": "cFJlGsYdTiz4",
        "outputId": "050c4c7a-9b8c-487f-939b-b86335525213"
      },
      "execution_count": null,
      "outputs": [
        {
          "output_type": "execute_result",
          "data": {
            "image/png": "[encoded data removed]",
            "text/plain": [
              "<IPython.core.display.Image object>"
            ]
          },
          "metadata": {},
          "execution_count": 20
        }
      ]
    },
    {
      "cell_type": "code",
      "source": [
        "hist = model_BiLSTMCNN.fit(X_split_train, y_split_train, validation_data=(X_split_test, y_split_test), epochs=10, verbose = 1)"
      ],
      "metadata": {
        "colab": {
          "base_uri": "https://localhost:8080/"
        },
        "id": "sdHmxK4HTkdy",
        "outputId": "5aa20f1c-192c-496e-993c-083579a8a152"
      },
      "execution_count": null,
      "outputs": [
        {
          "output_type": "stream",
          "name": "stdout",
          "text": [
            "Epoch 1/10\n",
            "9999/9999 [==============================] - 120s 11ms/step - loss: 4.7610e-04 - accuracy: 4.1570e-04 - val_loss: 3.7836e-04 - val_accuracy: 2.4923e-04\n",
            "Epoch 2/10\n",
            "9999/9999 [==============================] - 110s 11ms/step - loss: 4.2667e-04 - accuracy: 4.1570e-04 - val_loss: 4.3633e-04 - val_accuracy: 2.4923e-04\n",
            "Epoch 3/10\n",
            "9999/9999 [==============================] - 108s 11ms/step - loss: 4.1994e-04 - accuracy: 4.1570e-04 - val_loss: 3.6686e-04 - val_accuracy: 2.4923e-04\n",
            "Epoch 4/10\n",
            "9999/9999 [==============================] - 112s 11ms/step - loss: 4.1584e-04 - accuracy: 4.1570e-04 - val_loss: 3.6162e-04 - val_accuracy: 2.4923e-04\n",
            "Epoch 5/10\n",
            "9999/9999 [==============================] - 110s 11ms/step - loss: 4.1325e-04 - accuracy: 4.1570e-04 - val_loss: 4.0012e-04 - val_accuracy: 2.4923e-04\n",
            "Epoch 6/10\n",
            "9999/9999 [==============================] - 107s 11ms/step - loss: 4.1169e-04 - accuracy: 4.1570e-04 - val_loss: 3.6431e-04 - val_accuracy: 2.4923e-04\n",
            "Epoch 7/10\n",
            "9999/9999 [==============================] - 110s 11ms/step - loss: 4.1137e-04 - accuracy: 4.1570e-04 - val_loss: 3.6209e-04 - val_accuracy: 2.4923e-04\n",
            "Epoch 8/10\n",
            "9999/9999 [==============================] - 113s 11ms/step - loss: 4.1013e-04 - accuracy: 4.1570e-04 - val_loss: 3.7423e-04 - val_accuracy: 2.4923e-04\n",
            "Epoch 9/10\n",
            "9999/9999 [==============================] - 109s 11ms/step - loss: 4.0999e-04 - accuracy: 4.1570e-04 - val_loss: 3.8949e-04 - val_accuracy: 2.4923e-04\n",
            "Epoch 10/10\n",
            "9999/9999 [==============================] - 111s 11ms/step - loss: 4.0831e-04 - accuracy: 4.1570e-04 - val_loss: 3.6400e-04 - val_accuracy: 2.4923e-04\n"
          ]
        }
      ]
    },
    {
      "cell_type": "code",
      "source": [
        "yhat = model_BiLSTMCNN.predict(X_split_test)\n",
        "for i in range(5):\n",
        "    print(yhat[i])"
      ],
      "metadata": {
        "colab": {
          "base_uri": "https://localhost:8080/"
        },
        "id": "oPeEHkeWTmRo",
        "outputId": "82014c23-995f-496b-e117-6a386134f107"
      },
      "execution_count": null,
      "outputs": [
        {
          "output_type": "stream",
          "name": "stdout",
          "text": [
            "2508/2508 [==============================] - 16s 5ms/step\n",
            "[0.12053403]\n",
            "[0.11992114]\n",
            "[0.11992114]\n",
            "[0.11992114]\n",
            "[0.11992114]\n"
          ]
        }
      ]
    },
    {
      "cell_type": "code",
      "source": [
        "mse = mean_squared_error(y_split_test, yhat)\n",
        "print('MSE: %.5f' % mse)"
      ],
      "metadata": {
        "colab": {
          "base_uri": "https://localhost:8080/"
        },
        "id": "R8UTAiuhTp7s",
        "outputId": "82f4f13b-f533-420b-b98c-c7f8f3bec89d"
      },
      "execution_count": null,
      "outputs": [
        {
          "output_type": "stream",
          "name": "stdout",
          "text": [
            "MSE: 0.00057\n"
          ]
        }
      ]
    },
    {
      "cell_type": "code",
      "source": [
        "def plot_predicted(predicted_data, true_data):\n",
        "    fig, ax = plt.subplots(figsize=(17,8))\n",
        "    ax.set_title('Prediction vs. Actual after 25 epochs of training')\n",
        "    ax.plot(true_data, label='True Data', color='green', linewidth='3')\n",
        "\n",
        "    ax.plot(predicted_data, label='Prediction', color='red', linewidth='2')\n",
        "    plt.legend()\n",
        "    plt.show()\n",
        "\n",
        "plot_predicted(yhat[:300,], y_split_test[:300,])\n",
        "rmse = sqrt(mean_squared_error(y_split_test, yhat))\n",
        "print('Root Mean Squared Error: {:.4f}'.format(rmse))\n",
        "print(\"R2 score : %.2f\" % r2_score(y_split_test, yhat))"
      ],
      "metadata": {
        "colab": {
          "base_uri": "https://localhost:8080/",
          "height": 534
        },
        "id": "CMucflAQTsLJ",
        "outputId": "1ed8736e-519b-43a9-e0c1-d6a127c6abd1"
      },
      "execution_count": null,
      "outputs": [
        {
          "output_type": "display_data",
          "data": {
            "text/plain": [
              "<Figure size 1224x576 with 1 Axes>"
            ],
            "image/png": "[encoded data removed]"
          },
          "metadata": {
            "needs_background": "light"
          }
        },
        {
          "output_type": "stream",
          "name": "stdout",
          "text": [
            "Root Mean Squared Error: 0.0238\n",
            "R2 score : 0.96\n"
          ]
        }
      ]
    },
    {
      "cell_type": "code",
      "source": [
        "_, train_acc = model_BiLSTMCNN.evaluate(X_split_train, y_split_train, verbose=0)\n",
        "_, test_acc = model_BiLSTMCNN.evaluate(X_split_test, y_split_test, verbose=0)\n",
        "print('Train: %.5f, Test: %.5f' % (train_acc, test_acc))"
      ],
      "metadata": {
        "colab": {
          "base_uri": "https://localhost:8080/"
        },
        "id": "jtcsCLTZTuBy",
        "outputId": "8f9f8abf-34e0-40c2-8b9e-fdf42a229820"
      },
      "execution_count": null,
      "outputs": [
        {
          "output_type": "stream",
          "name": "stdout",
          "text": [
            "Train: 0.00042, Test: 0.00025\n"
          ]
        }
      ]
    },
    {
      "cell_type": "code",
      "source": [
        "# Resolve the issue\n",
        "\n",
        "plt.plot(hist.history['accuracy'])\n",
        "plt.plot(hist.history['val_accuracy'])\n",
        "plt.title('model accuracy')\n",
        "plt.ylabel('accuracy')\n",
        "plt.xlabel('epoch')\n",
        "plt.legend(['train', 'test'], loc='upper left')\n",
        "plt.show()"
      ],
      "metadata": {
        "colab": {
          "base_uri": "https://localhost:8080/",
          "height": 295
        },
        "id": "91LYg82lTwa_",
        "outputId": "c8969f3e-e683-4c39-c2a8-04f1b316006c"
      },
      "execution_count": null,
      "outputs": [
        {
          "output_type": "display_data",
          "data": {
            "text/plain": [
              "<Figure size 432x288 with 1 Axes>"
            ],
            "image/png": "[encoded data removed]"
          },
          "metadata": {
            "needs_background": "light"
          }
        }
      ]
    },
    {
      "cell_type": "code",
      "source": [
        "plt.plot(hist.history['loss'])\n",
        "plt.plot(hist.history['val_loss'])\n",
        "plt.title('model loss')\n",
        "plt.ylabel('loss')\n",
        "plt.xlabel('epoch')\n",
        "plt.legend(['train', 'test'], loc='upper left')\n",
        "plt.show()"
      ],
      "metadata": {
        "colab": {
          "base_uri": "https://localhost:8080/",
          "height": 295
        },
        "id": "ZF21hnh7Tzr4",
        "outputId": "5d1a0071-09d0-4561-d17b-4eca2acd8376"
      },
      "execution_count": null,
      "outputs": [
        {
          "output_type": "display_data",
          "data": {
            "text/plain": [
              "<Figure size 432x288 with 1 Axes>"
            ],
            "image/png": "[encoded data removed]"
          },
          "metadata": {
            "needs_background": "light"
          }
        }
      ]
    }
  ]
}