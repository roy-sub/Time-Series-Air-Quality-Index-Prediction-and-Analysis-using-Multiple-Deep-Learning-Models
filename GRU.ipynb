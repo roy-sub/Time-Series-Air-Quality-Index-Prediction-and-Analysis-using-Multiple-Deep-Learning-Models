{
  "nbformat": 4,
  "nbformat_minor": 0,
  "metadata": {
    "colab": {
      "provenance": [],
      "authorship_tag": "ABX9TyOH39rO3NT//0kdm6O6O/m+",
      "include_colab_link": true
    },
    "kernelspec": {
      "name": "python3",
      "display_name": "Python 3"
    },
    "language_info": {
      "name": "python"
    }
  },
  "cells": [
    {
      "cell_type": "markdown",
      "metadata": {
        "id": "view-in-github",
        "colab_type": "text"
      },
      "source": [
        "<a href=\"https://colab.research.google.com/github/roy-sub/Time-Series-Air-Quality-Index-Prediction-and-Analysis-using-Multiple-Deep-Learning-Models/blob/main/GRU.ipynb\" target=\"_parent\"><img src=\"https://colab.research.google.com/assets/colab-badge.svg\" alt=\"Open In Colab\"/></a>"
      ]
    },
    {
      "cell_type": "code",
      "execution_count": 23,
      "metadata": {
        "id": "NiMVnVnWDV0H"
      },
      "outputs": [],
      "source": [
        "import pandas as pd\n",
        "import numpy as np\n",
        "from math import sqrt\n",
        "from sklearn.metrics import r2_score\n",
        "import seaborn as sns\n",
        "from sklearn import preprocessing\n",
        "from sklearn.metrics import accuracy_score\n",
        "from sklearn.preprocessing import StandardScaler\n",
        "import matplotlib.pyplot as plt\n",
        "import tensorflow as tf\n",
        "from tensorflow import keras\n",
        "from numpy import array\n",
        "from keras.models import Sequential\n",
        "from keras.layers import LSTM\n",
        "from keras.layers import Dense\n",
        "from keras import optimizers\n",
        "from sklearn.preprocessing import MinMaxScaler\n",
        "from sklearn.metrics import mean_squared_error\n",
        "from keras.layers import Dropout\n",
        "from sklearn.svm import SVR\n",
        "from sklearn.metrics import mean_squared_error, r2_score\n",
        "from sklearn import metrics\n",
        "from keras.layers import Dense, LSTM, Dropout, GRU, Bidirectional\n",
        "from keras.optimizers import SGD"
      ]
    },
    {
      "cell_type": "code",
      "source": [
        "# 321300\n",
        "df = pd.read_csv('/content/air_quality_data_preprocessed')\n",
        "df.shape"
      ],
      "metadata": {
        "colab": {
          "base_uri": "https://localhost:8080/"
        },
        "id": "bAzZ3x--Dw4j",
        "outputId": "b8539184-29ad-459a-848f-bc82553ee971"
      },
      "execution_count": 3,
      "outputs": [
        {
          "output_type": "execute_result",
          "data": {
            "text/plain": [
              "(401611, 33)"
            ]
          },
          "metadata": {},
          "execution_count": 3
        }
      ]
    },
    {
      "cell_type": "code",
      "source": [
        "df.head()"
      ],
      "metadata": {
        "colab": {
          "base_uri": "https://localhost:8080/",
          "height": 300
        },
        "id": "wJSACFebDxz1",
        "outputId": "fedf8672-665e-495f-94f2-ce432efbc2ac"
      },
      "execution_count": 4,
      "outputs": [
        {
          "output_type": "execute_result",
          "data": {
            "text/plain": [
              "   No  year  month  day  hour  PM2.5  PM10  SO2      NO2      CO  ...  \\\n",
              "0  16  2013      3    1    15   13.0  16.0  8.0  11.2000   800.0  ...   \n",
              "1  17  2013      3    1    16   11.0  22.0  6.0  15.4000   800.0  ...   \n",
              "2  18  2013      3    1    17   10.0  20.0  4.0   9.8000   800.0  ...   \n",
              "3  19  2013      3    1    18   11.0  20.0  6.0  12.6000   900.0  ...   \n",
              "4  20  2013      3    1    19   11.0  31.0  8.0  12.0053  1000.0  ...   \n",
              "\n",
              "   O3_8hr_max  PM2.5_SubIndex  PM10_SubIndex  SO2_SubIndex  NO2_SubIndex  \\\n",
              "0        90.0       10.833333      13.000000      7.437500     15.054638   \n",
              "1        90.0       11.274510      13.529412      7.441176     15.301424   \n",
              "2        90.0       11.574074      13.888889      7.305556     15.131900   \n",
              "3        90.0       11.929825      14.210526      7.315789     15.164432   \n",
              "4        90.0       12.250000      15.050000      7.450000     15.156541   \n",
              "\n",
              "   CO_SubIndex  O3_SubIndex  Checks  AQI_calculated  AQI_bucket_calculated  \n",
              "0  5494.117647         90.0       6          5494.0                 Severe  \n",
              "1  5494.117647         90.0       6          5494.0                 Severe  \n",
              "2  5494.117647         90.0       6          5494.0                 Severe  \n",
              "3  5494.117647         90.0       6          5494.0                 Severe  \n",
              "4  6082.352941         90.0       6          6082.0                 Severe  \n",
              "\n",
              "[5 rows x 33 columns]"
            ],
            "text/html": [
              "\n",
              "  <div id=\"df-b838ada9-6431-455c-a57e-d759f9e69201\">\n",
              "    <div class=\"colab-df-container\">\n",
              "      <div>\n",
              "<style scoped>\n",
              "    .dataframe tbody tr th:only-of-type {\n",
              "        vertical-align: middle;\n",
              "    }\n",
              "\n",
              "    .dataframe tbody tr th {\n",
              "        vertical-align: top;\n",
              "    }\n",
              "\n",
              "    .dataframe thead th {\n",
              "        text-align: right;\n",
              "    }\n",
              "</style>\n",
              "<table border=\"1\" class=\"dataframe\">\n",
              "  <thead>\n",
              "    <tr style=\"text-align: right;\">\n",
              "      <th></th>\n",
              "      <th>No</th>\n",
              "      <th>year</th>\n",
              "      <th>month</th>\n",
              "      <th>day</th>\n",
              "      <th>hour</th>\n",
              "      <th>PM2.5</th>\n",
              "      <th>PM10</th>\n",
              "      <th>SO2</th>\n",
              "      <th>NO2</th>\n",
              "      <th>CO</th>\n",
              "      <th>...</th>\n",
              "      <th>O3_8hr_max</th>\n",
              "      <th>PM2.5_SubIndex</th>\n",
              "      <th>PM10_SubIndex</th>\n",
              "      <th>SO2_SubIndex</th>\n",
              "      <th>NO2_SubIndex</th>\n",
              "      <th>CO_SubIndex</th>\n",
              "      <th>O3_SubIndex</th>\n",
              "      <th>Checks</th>\n",
              "      <th>AQI_calculated</th>\n",
              "      <th>AQI_bucket_calculated</th>\n",
              "    </tr>\n",
              "  </thead>\n",
              "  <tbody>\n",
              "    <tr>\n",
              "      <th>0</th>\n",
              "      <td>16</td>\n",
              "      <td>2013</td>\n",
              "      <td>3</td>\n",
              "      <td>1</td>\n",
              "      <td>15</td>\n",
              "      <td>13.0</td>\n",
              "      <td>16.0</td>\n",
              "      <td>8.0</td>\n",
              "      <td>11.2000</td>\n",
              "      <td>800.0</td>\n",
              "      <td>...</td>\n",
              "      <td>90.0</td>\n",
              "      <td>10.833333</td>\n",
              "      <td>13.000000</td>\n",
              "      <td>7.437500</td>\n",
              "      <td>15.054638</td>\n",
              "      <td>5494.117647</td>\n",
              "      <td>90.0</td>\n",
              "      <td>6</td>\n",
              "      <td>5494.0</td>\n",
              "      <td>Severe</td>\n",
              "    </tr>\n",
              "    <tr>\n",
              "      <th>1</th>\n",
              "      <td>17</td>\n",
              "      <td>2013</td>\n",
              "      <td>3</td>\n",
              "      <td>1</td>\n",
              "      <td>16</td>\n",
              "      <td>11.0</td>\n",
              "      <td>22.0</td>\n",
              "      <td>6.0</td>\n",
              "      <td>15.4000</td>\n",
              "      <td>800.0</td>\n",
              "      <td>...</td>\n",
              "      <td>90.0</td>\n",
              "      <td>11.274510</td>\n",
              "      <td>13.529412</td>\n",
              "      <td>7.441176</td>\n",
              "      <td>15.301424</td>\n",
              "      <td>5494.117647</td>\n",
              "      <td>90.0</td>\n",
              "      <td>6</td>\n",
              "      <td>5494.0</td>\n",
              "      <td>Severe</td>\n",
              "    </tr>\n",
              "    <tr>\n",
              "      <th>2</th>\n",
              "      <td>18</td>\n",
              "      <td>2013</td>\n",
              "      <td>3</td>\n",
              "      <td>1</td>\n",
              "      <td>17</td>\n",
              "      <td>10.0</td>\n",
              "      <td>20.0</td>\n",
              "      <td>4.0</td>\n",
              "      <td>9.8000</td>\n",
              "      <td>800.0</td>\n",
              "      <td>...</td>\n",
              "      <td>90.0</td>\n",
              "      <td>11.574074</td>\n",
              "      <td>13.888889</td>\n",
              "      <td>7.305556</td>\n",
              "      <td>15.131900</td>\n",
              "      <td>5494.117647</td>\n",
              "      <td>90.0</td>\n",
              "      <td>6</td>\n",
              "      <td>5494.0</td>\n",
              "      <td>Severe</td>\n",
              "    </tr>\n",
              "    <tr>\n",
              "      <th>3</th>\n",
              "      <td>19</td>\n",
              "      <td>2013</td>\n",
              "      <td>3</td>\n",
              "      <td>1</td>\n",
              "      <td>18</td>\n",
              "      <td>11.0</td>\n",
              "      <td>20.0</td>\n",
              "      <td>6.0</td>\n",
              "      <td>12.6000</td>\n",
              "      <td>900.0</td>\n",
              "      <td>...</td>\n",
              "      <td>90.0</td>\n",
              "      <td>11.929825</td>\n",
              "      <td>14.210526</td>\n",
              "      <td>7.315789</td>\n",
              "      <td>15.164432</td>\n",
              "      <td>5494.117647</td>\n",
              "      <td>90.0</td>\n",
              "      <td>6</td>\n",
              "      <td>5494.0</td>\n",
              "      <td>Severe</td>\n",
              "    </tr>\n",
              "    <tr>\n",
              "      <th>4</th>\n",
              "      <td>20</td>\n",
              "      <td>2013</td>\n",
              "      <td>3</td>\n",
              "      <td>1</td>\n",
              "      <td>19</td>\n",
              "      <td>11.0</td>\n",
              "      <td>31.0</td>\n",
              "      <td>8.0</td>\n",
              "      <td>12.0053</td>\n",
              "      <td>1000.0</td>\n",
              "      <td>...</td>\n",
              "      <td>90.0</td>\n",
              "      <td>12.250000</td>\n",
              "      <td>15.050000</td>\n",
              "      <td>7.450000</td>\n",
              "      <td>15.156541</td>\n",
              "      <td>6082.352941</td>\n",
              "      <td>90.0</td>\n",
              "      <td>6</td>\n",
              "      <td>6082.0</td>\n",
              "      <td>Severe</td>\n",
              "    </tr>\n",
              "  </tbody>\n",
              "</table>\n",
              "<p>5 rows × 33 columns</p>\n",
              "</div>\n",
              "      <button class=\"colab-df-convert\" onclick=\"convertToInteractive('df-b838ada9-6431-455c-a57e-d759f9e69201')\"\n",
              "              title=\"Convert this dataframe to an interactive table.\"\n",
              "              style=\"display:none;\">\n",
              "        \n",
              "  <svg xmlns=\"http://www.w3.org/2000/svg\" height=\"24px\"viewBox=\"0 0 24 24\"\n",
              "       width=\"24px\">\n",
              "    <path d=\"M0 0h24v24H0V0z\" fill=\"none\"/>\n",
              "    <path d=\"M18.56 5.44l.94 2.06.94-2.06 2.06-.94-2.06-.94-.94-2.06-.94 2.06-2.06.94zm-11 1L8.5 8.5l.94-2.06 2.06-.94-2.06-.94L8.5 2.5l-.94 2.06-2.06.94zm10 10l.94 2.06.94-2.06 2.06-.94-2.06-.94-.94-2.06-.94 2.06-2.06.94z\"/><path d=\"M17.41 7.96l-1.37-1.37c-.4-.4-.92-.59-1.43-.59-.52 0-1.04.2-1.43.59L10.3 9.45l-7.72 7.72c-.78.78-.78 2.05 0 2.83L4 21.41c.39.39.9.59 1.41.59.51 0 1.02-.2 1.41-.59l7.78-7.78 2.81-2.81c.8-.78.8-2.07 0-2.86zM5.41 20L4 18.59l7.72-7.72 1.47 1.35L5.41 20z\"/>\n",
              "  </svg>\n",
              "      </button>\n",
              "      \n",
              "  <style>\n",
              "    .colab-df-container {\n",
              "      display:flex;\n",
              "      flex-wrap:wrap;\n",
              "      gap: 12px;\n",
              "    }\n",
              "\n",
              "    .colab-df-convert {\n",
              "      background-color: #E8F0FE;\n",
              "      border: none;\n",
              "      border-radius: 50%;\n",
              "      cursor: pointer;\n",
              "      display: none;\n",
              "      fill: #1967D2;\n",
              "      height: 32px;\n",
              "      padding: 0 0 0 0;\n",
              "      width: 32px;\n",
              "    }\n",
              "\n",
              "    .colab-df-convert:hover {\n",
              "      background-color: #E2EBFA;\n",
              "      box-shadow: 0px 1px 2px rgba(60, 64, 67, 0.3), 0px 1px 3px 1px rgba(60, 64, 67, 0.15);\n",
              "      fill: #174EA6;\n",
              "    }\n",
              "\n",
              "    [theme=dark] .colab-df-convert {\n",
              "      background-color: #3B4455;\n",
              "      fill: #D2E3FC;\n",
              "    }\n",
              "\n",
              "    [theme=dark] .colab-df-convert:hover {\n",
              "      background-color: #434B5C;\n",
              "      box-shadow: 0px 1px 3px 1px rgba(0, 0, 0, 0.15);\n",
              "      filter: drop-shadow(0px 1px 2px rgba(0, 0, 0, 0.3));\n",
              "      fill: #FFFFFF;\n",
              "    }\n",
              "  </style>\n",
              "\n",
              "      <script>\n",
              "        const buttonEl =\n",
              "          document.querySelector('#df-b838ada9-6431-455c-a57e-d759f9e69201 button.colab-df-convert');\n",
              "        buttonEl.style.display =\n",
              "          google.colab.kernel.accessAllowed ? 'block' : 'none';\n",
              "\n",
              "        async function convertToInteractive(key) {\n",
              "          const element = document.querySelector('#df-b838ada9-6431-455c-a57e-d759f9e69201');\n",
              "          const dataTable =\n",
              "            await google.colab.kernel.invokeFunction('convertToInteractive',\n",
              "                                                     [key], {});\n",
              "          if (!dataTable) return;\n",
              "\n",
              "          const docLinkHtml = 'Like what you see? Visit the ' +\n",
              "            '<a target=\"_blank\" href=https://colab.research.google.com/notebooks/data_table.ipynb>data table notebook</a>'\n",
              "            + ' to learn more about interactive tables.';\n",
              "          element.innerHTML = '';\n",
              "          dataTable['output_type'] = 'display_data';\n",
              "          await google.colab.output.renderOutput(dataTable, element);\n",
              "          const docLink = document.createElement('div');\n",
              "          docLink.innerHTML = docLinkHtml;\n",
              "          element.appendChild(docLink);\n",
              "        }\n",
              "      </script>\n",
              "    </div>\n",
              "  </div>\n",
              "  "
            ]
          },
          "metadata": {},
          "execution_count": 4
        }
      ]
    },
    {
      "cell_type": "code",
      "source": [
        "train = df[:321301]['AQI_calculated']\n",
        "test = df[321301:401612]['AQI_calculated']"
      ],
      "metadata": {
        "id": "X7F1DllZD03U"
      },
      "execution_count": 5,
      "outputs": []
    },
    {
      "cell_type": "code",
      "source": [
        "# Normalizing training data # Converted into array as all the methods available are for arrays and not lists\n",
        "train = np.asarray(train)\n",
        "train_norm = np.reshape(train, (-1, 1))\n",
        "\n",
        "#Scaling all values between 0 and 1 so that large values don't just dominate\n",
        "scaler = MinMaxScaler(feature_range=(0, 1))\n",
        "train_norm = scaler.fit_transform(train_norm)\n",
        "\n",
        "#Printing\n",
        "for i in range(5):\n",
        "    print(train_norm[i])"
      ],
      "metadata": {
        "colab": {
          "base_uri": "https://localhost:8080/"
        },
        "id": "MwazONWKEB2O",
        "outputId": "5c60f245-0a99-4bda-d9a6-147815ebdc9c"
      },
      "execution_count": 6,
      "outputs": [
        {
          "output_type": "stream",
          "name": "stdout",
          "text": [
            "[0.08080912]\n",
            "[0.08080912]\n",
            "[0.08080912]\n",
            "[0.08080912]\n",
            "[0.09090597]\n"
          ]
        }
      ]
    },
    {
      "cell_type": "code",
      "source": [
        "train_norm = train_norm[train_norm!=0]"
      ],
      "metadata": {
        "id": "1I98VFi_EH4Q"
      },
      "execution_count": 7,
      "outputs": []
    },
    {
      "cell_type": "code",
      "source": [
        "# Normalizing testing data # Converted into array as all the methods available are for arrays and not lists\n",
        "test = np.asarray(test)\n",
        "test_norm = np.reshape(test, (-1, 1))\n",
        "\n",
        "#Scaling all values between 0 and 1 so that large values don't just dominate\n",
        "scaler = MinMaxScaler(feature_range=(0, 1))\n",
        "test_norm = scaler.fit_transform(test_norm)\n",
        "\n",
        "#Printing\n",
        "for i in range(5):\n",
        "    print(test_norm[i])"
      ],
      "metadata": {
        "colab": {
          "base_uri": "https://localhost:8080/"
        },
        "id": "RjAa2wX7EJMO",
        "outputId": "21c785b4-7acc-4f56-d1dd-3e658b6f8b02"
      },
      "execution_count": 8,
      "outputs": [
        {
          "output_type": "stream",
          "name": "stdout",
          "text": [
            "[0.11111683]\n",
            "[0.12121368]\n",
            "[0.12121368]\n",
            "[0.12121368]\n",
            "[0.12121368]\n"
          ]
        }
      ]
    },
    {
      "cell_type": "code",
      "source": [
        "test_norm = test_norm[test_norm != 0]"
      ],
      "metadata": {
        "id": "mODbr37LENO2"
      },
      "execution_count": 9,
      "outputs": []
    },
    {
      "cell_type": "code",
      "source": [
        "print(train_norm.shape)\n",
        "print(test_norm.shape)"
      ],
      "metadata": {
        "colab": {
          "base_uri": "https://localhost:8080/"
        },
        "id": "ubUtC4qPEO4g",
        "outputId": "dd000c93-fa38-49fc-9f28-b43a442ca8b6"
      },
      "execution_count": 10,
      "outputs": [
        {
          "output_type": "stream",
          "name": "stdout",
          "text": [
            "(319942,)\n",
            "(80251,)\n"
          ]
        }
      ]
    },
    {
      "cell_type": "code",
      "source": [
        "def split_sequence(sequence, n_steps):\n",
        "    x, y = list(), list()\n",
        "    for i in range(len(sequence)):\n",
        "        # find the end of this pattern\n",
        "        end_ix = i + n_steps\n",
        "        # check if we are beyond the sequence\n",
        "        if end_ix > len(sequence)-1:\n",
        "            break\n",
        "        # gather input and output parts of the pattern\n",
        "        seq_x, seq_y = sequence[i:end_ix], sequence[end_ix]\n",
        "        x.append(seq_x)\n",
        "        y.append(seq_y)\n",
        "    return array(x),array(y)"
      ],
      "metadata": {
        "id": "eGJ33dP3EQRQ"
      },
      "execution_count": 11,
      "outputs": []
    },
    {
      "cell_type": "code",
      "source": [
        "n_steps = 3\n",
        "X_split_train, y_split_train = split_sequence(train_norm, n_steps)\n",
        "for i in range(5):\n",
        "    print(X_split_train[i], y_split_train[i])"
      ],
      "metadata": {
        "colab": {
          "base_uri": "https://localhost:8080/"
        },
        "id": "y9YleNr7E_lo",
        "outputId": "3547ade8-b633-4aba-b935-b098229a56ca"
      },
      "execution_count": 12,
      "outputs": [
        {
          "output_type": "stream",
          "name": "stdout",
          "text": [
            "[0.08080912 0.08080912 0.08080912] 0.08080912150559791\n",
            "[0.08080912 0.08080912 0.08080912] 0.09090596881653959\n",
            "[0.08080912 0.08080912 0.09090597] 0.1010199876365135\n",
            "[0.08080912 0.09090597 0.10101999] 0.11111683494745518\n",
            "[0.09090597 0.10101999 0.11111683] 0.11111683494745518\n"
          ]
        }
      ]
    },
    {
      "cell_type": "code",
      "source": [
        "print(X_split_train.shape[0])\n",
        "print(X_split_train.shape[1])\n",
        "print(X_split_train.shape)"
      ],
      "metadata": {
        "colab": {
          "base_uri": "https://localhost:8080/"
        },
        "id": "UvWlxJ5IFCED",
        "outputId": "5f72c671-7105-4f61-d524-57b96fb3afb2"
      },
      "execution_count": 13,
      "outputs": [
        {
          "output_type": "stream",
          "name": "stdout",
          "text": [
            "319939\n",
            "3\n",
            "(319939, 3)\n"
          ]
        }
      ]
    },
    {
      "cell_type": "code",
      "source": [
        "print(X_split_train[0])"
      ],
      "metadata": {
        "colab": {
          "base_uri": "https://localhost:8080/"
        },
        "id": "9Y8XeC3hFDkU",
        "outputId": "cc9eced6-d6b9-4b29-dc86-d1b08e13bb06"
      },
      "execution_count": 14,
      "outputs": [
        {
          "output_type": "stream",
          "name": "stdout",
          "text": [
            "[0.08080912 0.08080912 0.08080912]\n"
          ]
        }
      ]
    },
    {
      "cell_type": "code",
      "source": [
        "n_features = 1\n",
        "X_split_train = X_split_train.reshape((X_split_train.shape[0], X_split_train.shape[1], n_features))\n",
        "for i in range(5):\n",
        "    print(X_split_train[i])"
      ],
      "metadata": {
        "colab": {
          "base_uri": "https://localhost:8080/"
        },
        "id": "b3FY1UIRFE_K",
        "outputId": "ecf89207-c5e6-4b79-821e-0f1c30f47a03"
      },
      "execution_count": 15,
      "outputs": [
        {
          "output_type": "stream",
          "name": "stdout",
          "text": [
            "[[0.08080912]\n",
            " [0.08080912]\n",
            " [0.08080912]]\n",
            "[[0.08080912]\n",
            " [0.08080912]\n",
            " [0.08080912]]\n",
            "[[0.08080912]\n",
            " [0.08080912]\n",
            " [0.09090597]]\n",
            "[[0.08080912]\n",
            " [0.09090597]\n",
            " [0.10101999]]\n",
            "[[0.09090597]\n",
            " [0.10101999]\n",
            " [0.11111683]]\n"
          ]
        }
      ]
    },
    {
      "cell_type": "code",
      "source": [
        "print(X_split_train.shape)"
      ],
      "metadata": {
        "colab": {
          "base_uri": "https://localhost:8080/"
        },
        "id": "rRM_FICsFFxq",
        "outputId": "883a0d85-bb84-4765-e8d4-24deb4f36b6a"
      },
      "execution_count": 16,
      "outputs": [
        {
          "output_type": "stream",
          "name": "stdout",
          "text": [
            "(319939, 3, 1)\n"
          ]
        }
      ]
    },
    {
      "cell_type": "code",
      "source": [
        "X_split_test, y_split_test = split_sequence(test_norm, n_steps)\n",
        "for i in range(5):\n",
        "    print(X_split_test[i], y_split_test[i])"
      ],
      "metadata": {
        "colab": {
          "base_uri": "https://localhost:8080/"
        },
        "id": "FzH6D8kDFIa2",
        "outputId": "25000795-2c9a-47d0-d31a-0c459d24b315"
      },
      "execution_count": 17,
      "outputs": [
        {
          "output_type": "stream",
          "name": "stdout",
          "text": [
            "[0.11111683 0.12121368 0.12121368] 0.12121368225839686\n",
            "[0.12121368 0.12121368 0.12121368] 0.12121368225839686\n",
            "[0.12121368 0.12121368 0.12121368] 0.12121368225839686\n",
            "[0.12121368 0.12121368 0.12121368] 0.12121368225839686\n",
            "[0.12121368 0.12121368 0.12121368] 0.12121368225839686\n"
          ]
        }
      ]
    },
    {
      "cell_type": "code",
      "source": [
        "n_features = 1\n",
        "X_split_test = X_split_test.reshape((X_split_test.shape[0], X_split_test.shape[1], n_features))\n",
        "for i in range(5):\n",
        "    print(X_split_test[i])"
      ],
      "metadata": {
        "colab": {
          "base_uri": "https://localhost:8080/"
        },
        "id": "myJiHGeAFKOk",
        "outputId": "f7784c6d-89ef-40db-f030-9ff722ff2eea"
      },
      "execution_count": 18,
      "outputs": [
        {
          "output_type": "stream",
          "name": "stdout",
          "text": [
            "[[0.11111683]\n",
            " [0.12121368]\n",
            " [0.12121368]]\n",
            "[[0.12121368]\n",
            " [0.12121368]\n",
            " [0.12121368]]\n",
            "[[0.12121368]\n",
            " [0.12121368]\n",
            " [0.12121368]]\n",
            "[[0.12121368]\n",
            " [0.12121368]\n",
            " [0.12121368]]\n",
            "[[0.12121368]\n",
            " [0.12121368]\n",
            " [0.12121368]]\n"
          ]
        }
      ]
    },
    {
      "cell_type": "code",
      "source": [
        "print(X_split_test.shape)"
      ],
      "metadata": {
        "colab": {
          "base_uri": "https://localhost:8080/"
        },
        "id": "sJY2S2gBFNAr",
        "outputId": "35f4615c-1fd7-4c72-ad4a-9395999dab70"
      },
      "execution_count": 19,
      "outputs": [
        {
          "output_type": "stream",
          "name": "stdout",
          "text": [
            "(80248, 3, 1)\n"
          ]
        }
      ]
    },
    {
      "cell_type": "code",
      "source": [
        "# Reshape the input data to have 2 dimensions\n",
        "X_split_train_2d = X_split_train.reshape(X_split_train.shape[0], -1)\n",
        "for i in range(5):\n",
        "    print(X_split_train_2d[i])"
      ],
      "metadata": {
        "colab": {
          "base_uri": "https://localhost:8080/"
        },
        "id": "AoToun-Le1fO",
        "outputId": "16cc060e-f74d-4f9a-a666-078cc7ec5661"
      },
      "execution_count": 20,
      "outputs": [
        {
          "output_type": "stream",
          "name": "stdout",
          "text": [
            "[0.08080912 0.08080912 0.08080912]\n",
            "[0.08080912 0.08080912 0.08080912]\n",
            "[0.08080912 0.08080912 0.09090597]\n",
            "[0.08080912 0.09090597 0.10101999]\n",
            "[0.09090597 0.10101999 0.11111683]\n"
          ]
        }
      ]
    },
    {
      "cell_type": "code",
      "source": [
        "# Reshape the input data to have 2 dimensions\n",
        "X_split_test_2d = X_split_test.reshape(X_split_test.shape[0], -1)\n",
        "for i in range(5):\n",
        "    print(X_split_test_2d[i])"
      ],
      "metadata": {
        "colab": {
          "base_uri": "https://localhost:8080/"
        },
        "id": "kzXDxobWjRbU",
        "outputId": "0afc15a4-0c4f-416e-dc52-4bf152d881af"
      },
      "execution_count": 21,
      "outputs": [
        {
          "output_type": "stream",
          "name": "stdout",
          "text": [
            "[0.11111683 0.12121368 0.12121368]\n",
            "[0.12121368 0.12121368 0.12121368]\n",
            "[0.12121368 0.12121368 0.12121368]\n",
            "[0.12121368 0.12121368 0.12121368]\n",
            "[0.12121368 0.12121368 0.12121368]\n"
          ]
        }
      ]
    },
    {
      "cell_type": "code",
      "source": [
        "# design network\n",
        "\n",
        "regressorGRU = Sequential()\n",
        "# First GRU layer with Dropout regularisation\n",
        "regressorGRU.add(GRU(units=50, return_sequences=True, input_shape=(X_split_train.shape[1],1), activation='tanh'))\n",
        "regressorGRU.add(Dropout(0.2))\n",
        "# Second GRU layer\n",
        "regressorGRU.add(GRU(units=50, return_sequences=True, input_shape=(X_split_train.shape[1],1), activation='tanh'))\n",
        "regressorGRU.add(Dropout(0.2))\n",
        "# Third GRU layer\n",
        "regressorGRU.add(GRU(units=50, return_sequences=True, input_shape=(X_split_train.shape[1],1), activation='tanh'))\n",
        "regressorGRU.add(Dropout(0.2))\n",
        "# Fourth GRU layer\n",
        "regressorGRU.add(GRU(units=50, activation='tanh'))\n",
        "regressorGRU.add(Dropout(0.2))\n",
        "# The output layer\n",
        "regressorGRU.add(Dense(units=1))\n",
        "# Compiling the RNN\n",
        "regressorGRU.compile(optimizer=SGD(lr=0.01, decay=1e-7, momentum=0.9, nesterov=False),loss='mean_squared_error', metrics=['accuracy'])\n",
        "regressorGRU.summary()"
      ],
      "metadata": {
        "colab": {
          "base_uri": "https://localhost:8080/"
        },
        "id": "jnSF96kQ0Tax",
        "outputId": "f2c42aa9-a434-474c-f672-1f9780871e3e"
      },
      "execution_count": 25,
      "outputs": [
        {
          "output_type": "stream",
          "name": "stdout",
          "text": [
            "Model: \"sequential_1\"\n",
            "_________________________________________________________________\n",
            " Layer (type)                Output Shape              Param #   \n",
            "=================================================================\n",
            " gru_4 (GRU)                 (None, 3, 50)             7950      \n",
            "                                                                 \n",
            " dropout_4 (Dropout)         (None, 3, 50)             0         \n",
            "                                                                 \n",
            " gru_5 (GRU)                 (None, 3, 50)             15300     \n",
            "                                                                 \n",
            " dropout_5 (Dropout)         (None, 3, 50)             0         \n",
            "                                                                 \n",
            " gru_6 (GRU)                 (None, 3, 50)             15300     \n",
            "                                                                 \n",
            " dropout_6 (Dropout)         (None, 3, 50)             0         \n",
            "                                                                 \n",
            " gru_7 (GRU)                 (None, 50)                15300     \n",
            "                                                                 \n",
            " dropout_7 (Dropout)         (None, 50)                0         \n",
            "                                                                 \n",
            " dense_1 (Dense)             (None, 1)                 51        \n",
            "                                                                 \n",
            "=================================================================\n",
            "Total params: 53,901\n",
            "Trainable params: 53,901\n",
            "Non-trainable params: 0\n",
            "_________________________________________________________________\n"
          ]
        }
      ]
    },
    {
      "cell_type": "code",
      "source": [
        "# Fitting to the training set\n",
        "hist = regressorGRU.fit(X_split_train,y_split_train, validation_data=(X_split_test, y_split_test), epochs=10,batch_size=150, verbose = 1)"
      ],
      "metadata": {
        "colab": {
          "base_uri": "https://localhost:8080/"
        },
        "id": "x4xP4Dpg-DH2",
        "outputId": "15cd940f-0ab6-4712-cba7-2023be2dbbf2"
      },
      "execution_count": 26,
      "outputs": [
        {
          "output_type": "stream",
          "name": "stdout",
          "text": [
            "Epoch 1/10\n",
            "2133/2133 [==============================] - 59s 24ms/step - loss: 0.0044 - accuracy: 2.6255e-04 - val_loss: 0.0017 - val_accuracy: 2.4923e-04\n",
            "Epoch 2/10\n",
            "2133/2133 [==============================] - 50s 23ms/step - loss: 0.0019 - accuracy: 4.1258e-04 - val_loss: 0.0017 - val_accuracy: 2.4923e-04\n",
            "Epoch 3/10\n",
            "2133/2133 [==============================] - 49s 23ms/step - loss: 0.0019 - accuracy: 4.1258e-04 - val_loss: 0.0016 - val_accuracy: 2.4923e-04\n",
            "Epoch 4/10\n",
            "2133/2133 [==============================] - 49s 23ms/step - loss: 0.0019 - accuracy: 4.1258e-04 - val_loss: 0.0017 - val_accuracy: 2.4923e-04\n",
            "Epoch 5/10\n",
            "2133/2133 [==============================] - 50s 24ms/step - loss: 0.0018 - accuracy: 4.1258e-04 - val_loss: 0.0017 - val_accuracy: 2.4923e-04\n",
            "Epoch 6/10\n",
            "2133/2133 [==============================] - 50s 24ms/step - loss: 0.0018 - accuracy: 4.1258e-04 - val_loss: 0.0016 - val_accuracy: 2.4923e-04\n",
            "Epoch 7/10\n",
            "2133/2133 [==============================] - 50s 23ms/step - loss: 0.0018 - accuracy: 4.0945e-04 - val_loss: 0.0016 - val_accuracy: 2.4923e-04\n",
            "Epoch 8/10\n",
            "2133/2133 [==============================] - 48s 23ms/step - loss: 0.0018 - accuracy: 4.0945e-04 - val_loss: 0.0016 - val_accuracy: 2.4923e-04\n",
            "Epoch 9/10\n",
            "2133/2133 [==============================] - 50s 24ms/step - loss: 0.0018 - accuracy: 4.0945e-04 - val_loss: 0.0016 - val_accuracy: 2.4923e-04\n",
            "Epoch 10/10\n",
            "2133/2133 [==============================] - 49s 23ms/step - loss: 0.0018 - accuracy: 4.1258e-04 - val_loss: 0.0016 - val_accuracy: 2.4923e-04\n"
          ]
        }
      ]
    },
    {
      "cell_type": "code",
      "source": [
        "yhat = regressorGRU.predict(X_split_test)\n",
        "for i in range(5):\n",
        "    print(yhat[i])"
      ],
      "metadata": {
        "colab": {
          "base_uri": "https://localhost:8080/"
        },
        "id": "au70_NWlDDpX",
        "outputId": "603e1fe8-046c-4521-b9f2-99244b92aa7a"
      },
      "execution_count": 28,
      "outputs": [
        {
          "output_type": "stream",
          "name": "stdout",
          "text": [
            "2508/2508 [==============================] - 12s 4ms/step\n",
            "[0.11893241]\n",
            "[0.12297118]\n",
            "[0.12297118]\n",
            "[0.12297118]\n",
            "[0.12297118]\n"
          ]
        }
      ]
    },
    {
      "cell_type": "code",
      "source": [
        "mse = mean_squared_error(y_split_test, yhat)\n",
        "rmse = sqrt(metrics.mean_squared_error(y_split_test, yhat))\n",
        "mae= metrics.mean_absolute_error(y_split_test, yhat)\n",
        "r2= metrics.r2_score(y_split_test, yhat)\n",
        "\n",
        "print('MSE: %.5f' % mse)\n",
        "print('RMSE: %.5f' % rmse)\n",
        "print('MAE: %.5f' % mae)\n",
        "print('R2: %.5f' % r2)"
      ],
      "metadata": {
        "colab": {
          "base_uri": "https://localhost:8080/"
        },
        "id": "a3_D-3PyDMyd",
        "outputId": "2bedfe95-2148-4838-a374-eb3705068e0f"
      },
      "execution_count": 33,
      "outputs": [
        {
          "output_type": "stream",
          "name": "stdout",
          "text": [
            "MSE: 0.00158\n",
            "RMSE: 0.03971\n",
            "MAE: 0.02070\n",
            "R2: 0.88257\n"
          ]
        }
      ]
    },
    {
      "cell_type": "code",
      "source": [
        "def plot_predicted(predicted_data, true_data):\n",
        "    fig, ax = plt.subplots(figsize=(17,8))\n",
        "    ax.set_title('Prediction vs. Actual after 25 epochs of training')\n",
        "    ax.plot(true_data, label='True Data', color='green', linewidth='3')\n",
        "\n",
        "    ax.plot(predicted_data, label='Prediction', color='red', linewidth='2')\n",
        "    plt.legend()\n",
        "    plt.show()"
      ],
      "metadata": {
        "id": "BD2Ujv-lgbF8"
      },
      "execution_count": 35,
      "outputs": []
    },
    {
      "cell_type": "code",
      "source": [
        "plot_predicted(yhat[:300,], y_split_test[:300,])"
      ],
      "metadata": {
        "colab": {
          "base_uri": "https://localhost:8080/",
          "height": 499
        },
        "id": "5kTeVXfaEjqy",
        "outputId": "df0512d5-80f7-4db1-bb02-dea09e22ed14"
      },
      "execution_count": 36,
      "outputs": [
        {
          "output_type": "display_data",
          "data": {
            "text/plain": [
              "<Figure size 1224x576 with 1 Axes>"
            ],
            "image/png": "[encoded data removed]"
          },
          "metadata": {
            "needs_background": "light"
          }
        }
      ]
    },
    {
      "cell_type": "code",
      "source": [
        "_, train_acc = regressorGRU.evaluate(X_split_train, y_split_train, verbose=0)\n",
        "_, test_acc = regressorGRU.evaluate(X_split_test, y_split_test, verbose=0)\n",
        "print('Train: %.5f, Test: %.5f' % (train_acc, test_acc))"
      ],
      "metadata": {
        "colab": {
          "base_uri": "https://localhost:8080/"
        },
        "id": "rN1BHETSElWQ",
        "outputId": "c749a8ee-46c0-44f0-c2f7-cceb69051210"
      },
      "execution_count": 38,
      "outputs": [
        {
          "output_type": "stream",
          "name": "stdout",
          "text": [
            "Train: 0.00041, Test: 0.00025\n"
          ]
        }
      ]
    },
    {
      "cell_type": "code",
      "source": [
        "# Resolve the issue\n",
        "\n",
        "plt.plot(hist.history['accuracy'])\n",
        "plt.plot(hist.history['val_accuracy'])\n",
        "plt.title('model accuracy')\n",
        "plt.ylabel('accuracy')\n",
        "plt.xlabel('epoch')\n",
        "plt.legend(['train', 'test'], loc='upper left')\n",
        "plt.show()"
      ],
      "metadata": {
        "colab": {
          "base_uri": "https://localhost:8080/",
          "height": 295
        },
        "id": "xZgHJ8MXEuGb",
        "outputId": "59514cd0-b50d-4427-d00d-2b7a45cec003"
      },
      "execution_count": 39,
      "outputs": [
        {
          "output_type": "display_data",
          "data": {
            "text/plain": [
              "<Figure size 432x288 with 1 Axes>"
            ],
            "image/png": "[encoded data removed]"
          },
          "metadata": {
            "needs_background": "light"
          }
        }
      ]
    },
    {
      "cell_type": "code",
      "source": [
        "plt.plot(hist.history['loss'])\n",
        "plt.plot(hist.history['val_loss'])\n",
        "plt.title('model loss')\n",
        "plt.ylabel('loss')\n",
        "plt.xlabel('epoch')\n",
        "plt.legend(['train', 'test'], loc='upper left')\n",
        "plt.show()"
      ],
      "metadata": {
        "colab": {
          "base_uri": "https://localhost:8080/",
          "height": 295
        },
        "id": "cCne-dYNEvqB",
        "outputId": "6bac8866-ef6d-4c3c-c580-d2ebfb457095"
      },
      "execution_count": 40,
      "outputs": [
        {
          "output_type": "display_data",
          "data": {
            "text/plain": [
              "<Figure size 432x288 with 1 Axes>"
            ],
            "image/png": "[encoded data removed]"
          },
          "metadata": {
            "needs_background": "light"
          }
        }
      ]
    }
  ]
}